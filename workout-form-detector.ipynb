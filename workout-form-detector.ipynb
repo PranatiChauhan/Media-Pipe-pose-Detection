{
 "cells": [
  {
   "cell_type": "markdown",
   "id": "38912905-7bca-4e70-b5db-4650cc83d930",
   "metadata": {},
   "source": [
    "# Run the following commands in terminal to install libraries\n",
    "conda install -c conda-forge opencv<br>\n",
    "conda install -c anaconda numpy<br>\n",
    "conda install -c anaconda keras tensorflow<br>\n",
    "conda install -c anaconda scipy<br>\n",
    "pip install fastdtw <br>\n",
    "pip install matplotlib<br>\n",
    "pip install pillow"
   ]
  },
  {
   "cell_type": "code",
   "execution_count": 1,
   "id": "74ee9dfc",
   "metadata": {},
   "outputs": [
    {
     "name": "stderr",
     "output_type": "stream",
     "text": [
      "2023-10-20 15:27:49.572485: I tensorflow/core/platform/cpu_feature_guard.cc:193] This TensorFlow binary is optimized with oneAPI Deep Neural Network Library (oneDNN) to use the following CPU instructions in performance-critical operations:  SSE4.1 SSE4.2\n",
      "To enable them in other operations, rebuild TensorFlow with the appropriate compiler flags.\n"
     ]
    }
   ],
   "source": [
    "import os\n",
    "import cv2\n",
    "import numpy as np\n",
    "from keras.applications.vgg16 import VGG16, preprocess_input\n",
    "from keras.preprocessing import image\n",
    "import keras.utils as image\n",
    "from scipy.cluster.hierarchy import linkage, fcluster\n",
    "from fastdtw import fastdtw\n",
    "from scipy.spatial.distance import squareform, pdist\n",
    "from glob import glob\n",
    "from keras.utils import load_img, img_to_array\n",
    "from scipy.cluster.hierarchy import dendrogram, cophenet\n",
    "from scipy.spatial.distance import pdist\n",
    "import matplotlib.pyplot as plt\n",
    "import shutil"
   ]
  },
  {
   "cell_type": "code",
   "execution_count": null,
   "id": "e9a1ba5e-44cd-4b1d-8d45-97eb2d159c6b",
   "metadata": {},
   "outputs": [],
   "source": [
    "#clearing directory\n",
    "\n",
    "import shutil\n",
    "import os\n",
    "\n",
    "def clear_directory(directory):\n",
    "    for filename in os.listdir(directory):\n",
    "        file_path = os.path.join(directory, filename)\n",
    "        try:\n",
    "            if os.path.isfile(file_path) or os.path.islink(file_path):\n",
    "                os.unlink(file_path)\n",
    "            elif os.path.isdir(file_path):\n",
    "                shutil.rmtree(file_path)\n",
    "        except Exception as e:\n",
    "            print(f'Failed to delete {file_path}. Reason: {e}')\n",
    "# Clear the frames directory\n",
    "clear_directory(frames_dir)\n",
    "\n",
    "# Clear the output directory\n",
    "clear_directory(output_dir)\n",
    "\n",
    "# Clear the merged directory\n",
    "clear_directory('merged/')"
   ]
  },
  {
   "cell_type": "code",
   "execution_count": 2,
   "id": "b0f7c78a",
   "metadata": {},
   "outputs": [],
   "source": [
    "video_path = 'squat.mp4'\n",
    "frames_dir = 'frames'"
   ]
  },
  {
   "cell_type": "code",
   "execution_count": 3,
   "id": "d0599d5e",
   "metadata": {},
   "outputs": [
    {
     "name": "stderr",
     "output_type": "stream",
     "text": [
      "[ WARN:0@154.396] global /private/var/folders/sy/f16zz6x50xz3113nwtb9bvq00000gp/T/abs_f6tvh9615u/croot/opencv-suite_1691620375715/work/modules/videoio/src/cap_gstreamer.cpp (862) isPipelinePlaying OpenCV | GStreamer warning: GStreamer: pipeline have not been created\n",
      "[ERROR:0@154.397] global /private/var/folders/sy/f16zz6x50xz3113nwtb9bvq00000gp/T/abs_f6tvh9615u/croot/opencv-suite_1691620375715/work/modules/videoio/src/cap.cpp (166) open VIDEOIO(GSTREAMER): raised OpenCV exception:\n",
      "\n",
      "OpenCV(4.6.0) /private/var/folders/sy/f16zz6x50xz3113nwtb9bvq00000gp/T/abs_f6tvh9615u/croot/opencv-suite_1691620375715/work/modules/core/src/utils/filesystem.cpp:580: error: (-213:The function/feature is not implemented)  in function 'exists'\n",
      "\n",
      "\n"
     ]
    },
    {
     "name": "stdout",
     "output_type": "stream",
     "text": [
      "Extracted 62 frames to frames\n"
     ]
    }
   ],
   "source": [
    "os.makedirs(frames_dir, exist_ok=True)\n",
    "\n",
    "cap = cv2.VideoCapture(video_path)\n",
    "frame_count = 0\n",
    "skip_frames = 3\n",
    "while True:\n",
    "    ret, frame = cap.read()\n",
    "    if not ret:\n",
    "        break\n",
    "    if frame_count % skip_frames == 0:\n",
    "        cv2.imwrite(os.path.join(frames_dir, f'frame{frame_count}.jpg'), frame)\n",
    "    frame_count += 1\n",
    "\n",
    "cap.release()\n",
    "print(f\"Extracted {frame_count//skip_frames} frames to {frames_dir}\")\n"
   ]
  },
  {
   "cell_type": "code",
   "execution_count": 4,
   "id": "2650f36b",
   "metadata": {},
   "outputs": [
    {
     "name": "stderr",
     "output_type": "stream",
     "text": [
      "2023-10-20 15:31:00.079830: I tensorflow/core/platform/cpu_feature_guard.cc:193] This TensorFlow binary is optimized with oneAPI Deep Neural Network Library (oneDNN) to use the following CPU instructions in performance-critical operations:  SSE4.1 SSE4.2\n",
      "To enable them in other operations, rebuild TensorFlow with the appropriate compiler flags.\n"
     ]
    },
    {
     "name": "stdout",
     "output_type": "stream",
     "text": [
      "1/1 [==============================] - 1s 694ms/step\n",
      "1/1 [==============================] - 0s 484ms/step\n",
      "1/1 [==============================] - 0s 445ms/step\n",
      "1/1 [==============================] - 0s 496ms/step\n",
      "1/1 [==============================] - 0s 450ms/step\n",
      "1/1 [==============================] - 1s 501ms/step\n",
      "1/1 [==============================] - 0s 451ms/step\n",
      "1/1 [==============================] - 0s 473ms/step\n",
      "1/1 [==============================] - 0s 436ms/step\n",
      "1/1 [==============================] - 0s 452ms/step\n",
      "1/1 [==============================] - 0s 449ms/step\n",
      "1/1 [==============================] - 0s 465ms/step\n",
      "1/1 [==============================] - 0s 426ms/step\n",
      "1/1 [==============================] - 0s 434ms/step\n",
      "1/1 [==============================] - 0s 430ms/step\n",
      "1/1 [==============================] - 0s 428ms/step\n",
      "1/1 [==============================] - 0s 433ms/step\n",
      "1/1 [==============================] - 0s 434ms/step\n",
      "1/1 [==============================] - 0s 429ms/step\n",
      "1/1 [==============================] - 0s 427ms/step\n",
      "1/1 [==============================] - 0s 433ms/step\n",
      "1/1 [==============================] - 0s 435ms/step\n",
      "1/1 [==============================] - 0s 477ms/step\n",
      "1/1 [==============================] - 0s 444ms/step\n",
      "1/1 [==============================] - 0s 436ms/step\n",
      "1/1 [==============================] - 0s 450ms/step\n",
      "1/1 [==============================] - 0s 476ms/step\n",
      "1/1 [==============================] - 0s 438ms/step\n",
      "1/1 [==============================] - 0s 436ms/step\n",
      "1/1 [==============================] - 0s 433ms/step\n",
      "1/1 [==============================] - 0s 429ms/step\n",
      "1/1 [==============================] - 0s 430ms/step\n",
      "1/1 [==============================] - 0s 432ms/step\n",
      "1/1 [==============================] - 0s 409ms/step\n",
      "1/1 [==============================] - 0s 432ms/step\n",
      "1/1 [==============================] - 0s 430ms/step\n",
      "1/1 [==============================] - 0s 432ms/step\n",
      "1/1 [==============================] - 0s 432ms/step\n",
      "1/1 [==============================] - 0s 428ms/step\n",
      "1/1 [==============================] - 0s 487ms/step\n",
      "1/1 [==============================] - 0s 462ms/step\n",
      "1/1 [==============================] - 0s 449ms/step\n",
      "1/1 [==============================] - 1s 571ms/step\n",
      "1/1 [==============================] - 0s 454ms/step\n",
      "1/1 [==============================] - 0s 453ms/step\n",
      "1/1 [==============================] - 0s 452ms/step\n",
      "1/1 [==============================] - 0s 443ms/step\n",
      "1/1 [==============================] - 0s 429ms/step\n",
      "1/1 [==============================] - 0s 432ms/step\n",
      "1/1 [==============================] - 0s 430ms/step\n",
      "1/1 [==============================] - 0s 479ms/step\n",
      "1/1 [==============================] - 1s 517ms/step\n",
      "1/1 [==============================] - 0s 434ms/step\n",
      "1/1 [==============================] - 0s 434ms/step\n",
      "1/1 [==============================] - 0s 433ms/step\n",
      "1/1 [==============================] - 0s 438ms/step\n",
      "1/1 [==============================] - 0s 425ms/step\n",
      "1/1 [==============================] - 0s 436ms/step\n",
      "1/1 [==============================] - 0s 434ms/step\n",
      "1/1 [==============================] - 0s 439ms/step\n",
      "1/1 [==============================] - 0s 430ms/step\n",
      "1/1 [==============================] - 0s 437ms/step\n",
      "1/1 [==============================] - 0s 433ms/step\n"
     ]
    }
   ],
   "source": [
    "model = VGG16(include_top=False, weights='imagenet')\n",
    "\n",
    "def extract_features(img_path):\n",
    "    img = load_img(img_path, target_size=(224, 224))\n",
    "    img_data = img_to_array(img)\n",
    "    img_data = np.expand_dims(img_data, axis=0)\n",
    "    img_data = preprocess_input(img_data)\n",
    "\n",
    "    features = model.predict(img_data)\n",
    "    return features.flatten()\n",
    "\n",
    "frame_files = sorted(glob(os.path.join(frames_dir, '*.jpg')))\n",
    "frame_features = np.array([extract_features(f) for f in frame_files])\n"
   ]
  },
  {
   "cell_type": "code",
   "execution_count": 5,
   "id": "fbe58563",
   "metadata": {},
   "outputs": [
    {
     "name": "stderr",
     "output_type": "stream",
     "text": [
      "/var/folders/bz/g1nvx8713h99kgw9fnr0jc_00000gn/T/ipykernel_57297/190841859.py:6: ClusterWarning: scipy.cluster: The symmetric non-negative hollow observation matrix looks suspiciously like an uncondensed distance matrix\n",
      "  Z = linkage(distance_matrix, 'ward')\n"
     ]
    }
   ],
   "source": [
    "# Compute DTW distances between feature sequences\n",
    "distances = pdist(frame_features, lambda x, y: fastdtw(x, y)[0])\n",
    "distance_matrix = squareform(distances)\n",
    "\n",
    "# Hierarchical clustering using the precomputed distance matrix\n",
    "Z = linkage(distance_matrix, 'ward')"
   ]
  },
  {
   "cell_type": "code",
   "execution_count": 6,
   "id": "01957b94",
   "metadata": {},
   "outputs": [
    {
     "data": {
      "image/png": "[encoded data removed]",
      "text/plain": [
       "<Figure size 1200x800 with 1 Axes>"
      ]
     },
     "metadata": {},
     "output_type": "display_data"
    }
   ],
   "source": [
    "# Compute cophenetic correlation to measure how faithfully the dendrogram preserves pairwise distances between data\n",
    "_, coph_dists = cophenet(Z, pdist(frame_features, lambda x, y: fastdtw(x, y)[0]))\n",
    "\n",
    "# Plot dendrogram\n",
    "plt.figure(figsize=(12, 8))\n",
    "dendrogram(Z)\n",
    "plt.title('Dendrogram')\n",
    "plt.xlabel('Data Points')\n",
    "plt.ylabel('Distance')\n",
    "plt.axhline(y=coph_dists.mean(), color='r', linestyle='--')\n",
    "plt.show()\n"
   ]
  },
  {
   "cell_type": "markdown",
   "id": "c2993621",
   "metadata": {},
   "source": [
    "Explanation\n",
    "Dendrogram: We're plotting a dendrogram, which is a tree-like diagram showing the arrangement of the clusters. Each merge of clusters is represented by a horizontal line, and the height of these lines shows the distance between the merged clusters.\n",
    "\n",
    "Cophenetic Correlation Coefficient: We calculate this to measure how well the clustering preserves the pairwise distances between samples. The average distance serves as a threshold in the dendrogram to interpret the number of clusters.\n",
    "\n",
    "Horizontal Line: We draw a horizontal line on the dendrogram at the average cophenetic distance, and the number of intersections with the dendrogram gives an estimation of the optimal number of clusters.\n",
    "\n",
    "Choosing Clusters: The number of vertical lines the horizontal line intersects in the dendrogram can help decide the number of clusters."
   ]
  },
  {
   "cell_type": "code",
   "execution_count": 8,
   "id": "24177654",
   "metadata": {},
   "outputs": [],
   "source": [
    "optimal_clusters = 5   # Choose this based on your data and requirements\n",
    "clusters = fcluster(Z, t=optimal_clusters, criterion='maxclust')\n"
   ]
  },
  {
   "cell_type": "code",
   "execution_count": 9,
   "id": "1c8eb54c",
   "metadata": {},
   "outputs": [
    {
     "name": "stdout",
     "output_type": "stream",
     "text": [
      "['output/frame_1.jpg', 'output/frame_2.jpg', 'output/frame_3.jpg', 'output/frame_4.jpg', 'output/frame_5.jpg']\n",
      "Numbered frames saved to: output\n"
     ]
    }
   ],
   "source": [
    "from PIL import Image, ImageDraw, ImageFont\n",
    "\n",
    "output_dir = 'output'\n",
    "os.makedirs(output_dir, exist_ok=True)\n",
    "\n",
    "representative_frames = []\n",
    "\n",
    "frame_sequence = 1  # Initialize the sequence number\n",
    "\n",
    "font_path = \"/System/Library/Fonts/Supplemental/Arial.ttf\"  # Specify the path to Arial font\n",
    "\n",
    "for i in range(1, optimal_clusters + 1):\n",
    "    indices = np.where(clusters == i)[0]\n",
    "    intra_cluster_dists = distance_matrix[indices][:, indices]\n",
    "    representative_frame_index = indices[np.argmin(np.sum(intra_cluster_dists, axis=0))]\n",
    "    representative_frame_file = frame_files[representative_frame_index]\n",
    "\n",
    "    # Open the frame using PIL and overlay the sequence number\n",
    "    img = Image.open(representative_frame_file)\n",
    "    draw = ImageDraw.Draw(img)\n",
    "    \n",
    "    # Use the specified font path and adjust the font size and position according to your needs\n",
    "    font = ImageFont.truetype(font_path, 50)\n",
    "    draw.text((10, 10), str(frame_sequence), font=font, fill=(0, 0, 255))  # Set fill color to blue\n",
    "    \n",
    "    # Save the numbered frame\n",
    "    img.save(os.path.join(output_dir, f'frame_{frame_sequence}.jpg'))\n",
    "    \n",
    "    representative_frames.append(os.path.join(output_dir, f'frame_{frame_sequence}.jpg'))\n",
    "\n",
    "    frame_sequence += 1  # Increment the sequence number\n",
    "\n",
    "print(representative_frames)\n",
    "print(\"Numbered frames saved to:\", output_dir)\n"
   ]
  },
  {
   "cell_type": "code",
   "execution_count": 10,
   "id": "a31dba7d",
   "metadata": {},
   "outputs": [
    {
     "name": "stdout",
     "output_type": "stream",
     "text": [
      "1 contact sheets saved in merged/\n"
     ]
    }
   ],
   "source": [
    "from PIL import Image\n",
    "import os\n",
    "\n",
    "# Input folder containing the extracted frames\n",
    "frames_folder = 'output/'\n",
    "\n",
    "# Output folder where contact sheets will be saved\n",
    "output_folder = 'merged/'\n",
    "\n",
    "# Number of columns for each contact sheet\n",
    "num_columns = 5\n",
    "\n",
    "# Maximum supported image dimension\n",
    "max_dimension = 65500\n",
    "\n",
    "# List all image files in the frames folder\n",
    "frame_files = [f for f in os.listdir(frames_folder) if f.endswith('.jpg')]\n",
    "\n",
    "# Sort the frame files to ensure the correct order\n",
    "frame_files.sort()\n",
    "\n",
    "# Define a function to process a batch of images and return a single contact sheet\n",
    "def process_image_batch(image_batch, output_path):\n",
    "    # Get the dimensions of the first image in the batch\n",
    "    width, height = image_batch[0].size\n",
    "    \n",
    "    # Calculate the maximum number of rows and columns that fit within the maximum dimension\n",
    "    max_columns = min(num_columns, max_dimension // width)\n",
    "    max_rows = (len(image_batch) + max_columns - 1) // max_columns\n",
    "    \n",
    "    # Calculate the new width and height for the contact sheet\n",
    "    new_width = width * max_columns\n",
    "    new_height = height * max_rows\n",
    "\n",
    "    contact_sheet = Image.new('RGB', (new_width, new_height))\n",
    "\n",
    "    x_offset = 0\n",
    "    y_offset = 0\n",
    "\n",
    "    for image in image_batch:\n",
    "        contact_sheet.paste(image, (x_offset, y_offset))\n",
    "        x_offset += width\n",
    "\n",
    "        if x_offset >= new_width:\n",
    "            x_offset = 0\n",
    "            y_offset += height\n",
    "\n",
    "    # Save the contact sheet with adjustable JPEG compression quality\n",
    "    contact_sheet.save(output_path, format='JPEG', quality=95)\n",
    "\n",
    "# Create the output folder if it doesn't exist\n",
    "if not os.path.exists(output_folder):\n",
    "    os.makedirs(output_folder)\n",
    "\n",
    "# Process images in batches and save multiple contact sheets\n",
    "batch_size = 50  # You can adjust this based on your system's file descriptor limit\n",
    "contact_sheet_count = 0\n",
    "\n",
    "for i in range(0, len(frame_files), batch_size):\n",
    "    batch_files = frame_files[i:i + batch_size]\n",
    "    batch_images = [Image.open(os.path.join(frames_folder, frame)) for frame in batch_files]\n",
    "    \n",
    "    # Determine the output path for the contact sheet\n",
    "    contact_sheet_path = os.path.join(output_folder, f'contact_sheet_{contact_sheet_count}.jpg')\n",
    "    \n",
    "    process_image_batch(batch_images, contact_sheet_path)\n",
    "    \n",
    "    contact_sheet_count += 1\n",
    "\n",
    "print(f\"{contact_sheet_count} contact sheets saved in {output_folder}\")\n"
   ]
  },
  {
   "cell_type": "code",
   "execution_count": null,
   "id": "a9a502a6",
   "metadata": {},
   "outputs": [],
   "source": [
    "###modification of code: clear directory"
   ]
  },
  {
   "cell_type": "code",
   "execution_count": 11,
   "id": "fe2540fe",
   "metadata": {},
   "outputs": [],
   "source": []
  },
  {
   "cell_type": "code",
   "execution_count": null,
   "id": "43dfbf63",
   "metadata": {},
   "outputs": [],
   "source": [
    "# import matplotlib.font_manager\n",
    "# fonts = set([f.name for f in matplotlib.font_manager.fontManager.ttflist])\n",
    "# 'Arial' in fonts\n"
   ]
  },
  {
   "cell_type": "code",
   "execution_count": null,
   "id": "409c7957",
   "metadata": {},
   "outputs": [],
   "source": [
    "# from PIL import Image, ImageDraw, ImageFont\n",
    "\n",
    "# output_dir = 'output'\n",
    "# os.makedirs(output_dir, exist_ok=True)\n",
    "\n",
    "# representative_frames = []\n",
    "\n",
    "# frame_sequence = 1  # Initialize the sequence number\n",
    "\n",
    "# font_path = \"/System/Library/Fonts/Supplemental/Arial.ttf\"  # Specify the path to Arial font\n",
    "\n",
    "# for i in range(1, optimal_clusters + 1):\n",
    "#     indices = np.where(clusters == i)[0]\n",
    "#     intra_cluster_dists = distance_matrix[indices][:, indices]\n",
    "#     representative_frame_index = indices[np.argmin(np.sum(intra_cluster_dists, axis=0))]\n",
    "#     representative_frame_file = frame_files[representative_frame_index]\n",
    "\n",
    "#     # Open the frame using PIL and overlay the sequence number\n",
    "#     img = Image.open(representative_frame_file)\n",
    "#     draw = ImageDraw.Draw(img)\n",
    "    \n",
    "#     # Use the specified font path and adjust the font size and position according to your needs\n",
    "#     font = ImageFont.truetype(font_path, 50)\n",
    "#     draw.text((10, 10), str(frame_sequence), font=font, fill=(255, 255, 255))\n",
    "    \n",
    "#     # Save the numbered frame\n",
    "#     img.save(os.path.join(output_dir, f'frame_{frame_sequence}.jpg'))\n",
    "    \n",
    "#     representative_frames.append(os.path.join(output_dir, f'frame_{frame_sequence}.jpg'))\n",
    "\n",
    "#     frame_sequence += 1  # Increment the sequence number\n",
    "\n",
    "# print(representative_frames)\n",
    "# print(\"Numbered frames saved to:\", output_dir)\n"
   ]
  },
  {
   "cell_type": "code",
   "execution_count": null,
   "id": "f74fb6d7",
   "metadata": {},
   "outputs": [],
   "source": []
  }
 ],
 "metadata": {
  "kernelspec": {
   "display_name": "workout",
   "language": "python",
   "name": "workout"
  },
  "language_info": {
   "codemirror_mode": {
    "name": "ipython",
    "version": 3
   },
   "file_extension": ".py",
   "mimetype": "text/x-python",
   "name": "python",
   "nbconvert_exporter": "python",
   "pygments_lexer": "ipython3",
   "version": "3.9.18"
  }
 },
 "nbformat": 4,
 "nbformat_minor": 5
}
